{
 "cells": [
  {
   "cell_type": "markdown",
   "metadata": {},
   "source": [
    "DFT algorithm\n",
    "\n",
    "DFT: Given a sequence x[t] of samples at sample rate r (in samples/sec),\n",
    "produce a sequence y[f] of powers at frequencies.   \n",
    "\n",
    "$X[k] = \\sum_{n=0}^{N-1}x[n]e^{-i2\\pi\\frac{k}{N}n}$"
   ]
  },
  {
   "cell_type": "code",
   "execution_count": 4,
   "metadata": {},
   "outputs": [
    {
     "data": {
      "text/plain": [
       "[(3+0j),\n",
       " (-4.440892098500626e-16-6.661338147750939e-16j),\n",
       " (8.881784197001252e-16-2.220446049250313e-15j)]"
      ]
     },
     "execution_count": 4,
     "metadata": {},
     "output_type": "execute_result"
    }
   ],
   "source": [
    "from cmath import exp, pi\n",
    "\n",
    "\n",
    "def dft(samples):\n",
    "    N = len(samples)\n",
    "    sums = []\n",
    "    for k in range(N):\n",
    "        cur_sum = sum(samples[k] * exp(-1j * 2 * pi * k * n / N) for n in range(N))\n",
    "        sums.append(cur_sum)\n",
    "    return sums\n",
    "\n",
    "\n",
    "dft([1, 2, 3])"
   ]
  },
  {
   "cell_type": "code",
   "execution_count": null,
   "metadata": {},
   "outputs": [
    {
     "ename": "",
     "evalue": "",
     "output_type": "error",
     "traceback": [
      "\u001b[1;31mRunning cells with 'Python 3.11.2' requires the ipykernel package.\n",
      "\u001b[1;31mRun the following command to install 'ipykernel' into the Python environment. \n",
      "\u001b[1;31mCommand: '/bin/python3 -m pip install ipykernel -U --user --force-reinstall'"
     ]
    }
   ],
   "source": []
  }
 ],
 "metadata": {
  "kernelspec": {
   "display_name": "Python 3",
   "language": "python",
   "name": "python3"
  },
  "language_info": {
   "codemirror_mode": {
    "name": "ipython",
    "version": 3
   },
   "file_extension": ".py",
   "mimetype": "text/x-python",
   "name": "python",
   "nbconvert_exporter": "python",
   "pygments_lexer": "ipython3",
   "version": "3.11.2"
  }
 },
 "nbformat": 4,
 "nbformat_minor": 2
}
