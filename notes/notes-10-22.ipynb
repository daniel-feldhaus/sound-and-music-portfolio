{
 "cells": [
  {
   "cell_type": "markdown",
   "metadata": {},
   "source": [
    "DFT algorithm\n",
    "\n",
    "DFT: Given a sequence x[t] of samples at sample rate r (in samples/sec),\n",
    "produce a sequence y[f] of powers at frequencies.   \n",
    "\n",
    "$X[k] = \\sum_{n=0}^{N-1}x[n]e^{-i2\\pi\\frac{k}{N}n}$"
   ]
  },
  {
   "cell_type": "code",
   "execution_count": 4,
   "metadata": {},
   "outputs": [
    {
     "data": {
      "text/plain": [
       "[(3+0j),\n",
       " (-4.440892098500626e-16-6.661338147750939e-16j),\n",
       " (8.881784197001252e-16-2.220446049250313e-15j)]"
      ]
     },
     "execution_count": 4,
     "metadata": {},
     "output_type": "execute_result"
    }
   ],
   "source": [
    "from cmath import exp, pi\n",
    "\n",
    "\n",
    "def dft(samples):\n",
    "    N = len(samples)\n",
    "    sums = []\n",
    "    for k in range(N):\n",
    "        cur_sum = sum(samples[k] * exp(-1j * 2 * pi * k * n / N) for n in range(N))\n",
    "        sums.append(cur_sum)\n",
    "    return sums\n",
    "\n",
    "\n",
    "dft([1, 2, 3])"
   ]
  },
  {
   "cell_type": "markdown",
   "metadata": {},
   "source": [
    "## Octaves\n",
    "\n",
    "Octaves are orders of two larger or smaller than a given frequency.\n",
    "\n",
    "Notes are not linearly spaced within the octave - they're exponentially spaced.\n",
    "\n"
   ]
  },
  {
   "cell_type": "code",
   "execution_count": 10,
   "metadata": {},
   "outputs": [
    {
     "name": "stdout",
     "output_type": "stream",
     "text": [
      "Notes between middle A and high A:  440hZ, 466hZ, 494hZ, 523hZ, 554hZ, 587hZ, 622hZ, 659hZ, 698hZ, 740hZ, 784hZ, 831hZ, 880hZ\n"
     ]
    }
   ],
   "source": [
    "print(\n",
    "    \"Notes between middle A and high A: \",\n",
    "    \", \".join(f\"{440 * pow(2, (i / 12)):.0f}hZ\" for i in range(13)),\n",
    ")"
   ]
  }
 ],
 "metadata": {
  "kernelspec": {
   "display_name": "Python 3",
   "language": "python",
   "name": "python3"
  },
  "language_info": {
   "codemirror_mode": {
    "name": "ipython",
    "version": 3
   },
   "file_extension": ".py",
   "mimetype": "text/x-python",
   "name": "python",
   "nbconvert_exporter": "python",
   "pygments_lexer": "ipython3",
   "version": "3.11.2"
  }
 },
 "nbformat": 4,
 "nbformat_minor": 2
}
