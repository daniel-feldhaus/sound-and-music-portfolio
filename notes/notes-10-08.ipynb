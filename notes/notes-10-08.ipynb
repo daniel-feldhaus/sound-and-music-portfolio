{
 "cells": [
  {
   "cell_type": "markdown",
   "metadata": {},
   "source": [
    "# Resonance\n",
    "\n",
    "Read [this](https://en.wikipedia.org/wiki/Acoustic_resonance) article on acoustic resonance.\n",
    "\n",
    "## Stringed instruments\n",
    "\n",
    "Strings under tension vibrate at a frequency determined by their length and frequency. Higher resonances occur at frequencies determined by integer divisions of the string.\n",
    "\n",
    "$ f=\\frac{n\\sqrt{\\frac{T}{P}}}{2L} =  \\frac{n\\sqrt{\\frac{T}{m/L}}}{2L}$\n",
    "\n",
    "Where $T$ is the tension, p is the mass per unit length, and m is the total mass.\n",
    "\n",
    "## Human Voice\n",
    "\n",
    "The human vocal tract works by vibrating vocal folds (chords), and those vibrations resonating in cavities within the body.\n",
    "\n",
    "## Electrical Representation\n",
    "\n",
    "Converting sound pressure to voltage allows us to transmit it over larger distances, amplify it, manipulate it and store it. \n",
    "\n",
    "**Microphone**: Produces an analog voltage equivalent to sound pressure.\n",
    "\n",
    "**Speaker**: Produces sound pressure equivalent to an analog voltage.\n",
    "\n",
    "**Amplification**: Increasing input voltage to produce bigger pressure waves in the output.\n",
    "\n",
    "**Attenuation**: Decreasing input voltage to produce quieter pressure waves in the output.\n",
    "\n",
    "\n",
    "\n",
    " \n"
   ]
  }
 ],
 "metadata": {
  "language_info": {
   "name": "python"
  }
 },
 "nbformat": 4,
 "nbformat_minor": 2
}
