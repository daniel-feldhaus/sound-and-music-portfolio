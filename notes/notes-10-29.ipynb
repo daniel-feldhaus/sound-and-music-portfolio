{
 "cells": [
  {
   "cell_type": "code",
   "execution_count": null,
   "metadata": {},
   "outputs": [],
   "source": [
    "# Effects\n",
    "\n",
    "#"
   ]
  },
  {
   "cell_type": "markdown",
   "metadata": {},
   "source": [
    "# Effects\n",
    "**Wet**: Effected part of the sound.\n",
    "**Dry**: Uneffected part of the sound.\n",
    "\n",
    "To make voice sound good:\n",
    "1. Get close to the microphone.\n",
    "2. Record in a low-noise environment.\n",
    "3. Remove reverb.\n",
    "4. Remove noise.\n",
    "5. Mess with bass / treble.\n",
    "5. Add back in artificial reverb.\n",
    "\n",
    "Bass quickly drops off with distance.\n",
    "\n",
    "## Realtime effects\n",
    "- Must have adequate throughput\n",
    "- Latency needs to be as low as possible, especially with chains\n",
    "- Can be done \"offline\" (not realtime) as well.\n",
    "\n",
    "**Comporession**: Hold output volume level more steady as a function of input volume.\n",
    "**Expansion**: Make differences in input volume more lout in the output.\n",
    "**f**:\n",
    "\n"
   ]
  }
 ],
 "metadata": {
  "kernelspec": {
   "display_name": "venv",
   "language": "python",
   "name": "python3"
  },
  "language_info": {
   "name": "python",
   "version": "3.11.2"
  }
 },
 "nbformat": 4,
 "nbformat_minor": 2
}
